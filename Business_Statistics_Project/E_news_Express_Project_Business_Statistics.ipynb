{
 "cells": [
  {
   "cell_type": "markdown",
   "id": "6yDxo9u0d9Na",
   "metadata": {
    "id": "6yDxo9u0d9Na"
   },
   "source": [
    "# Project Business Statistics: E-news Express\n"
   ]
  },
  {
   "cell_type": "markdown",
   "id": "SrLd-ICEmPSD",
   "metadata": {
    "id": "SrLd-ICEmPSD"
   },
   "source": [
    "## Define Problem Statement and Objectives"
   ]
  },
  {
   "cell_type": "markdown",
   "id": "9Vt1PLLqmXNn",
   "metadata": {
    "id": "9Vt1PLLqmXNn"
   },
   "source": [
    "## Business Context\n",
    "\n",
    "The advent of e-news, or electronic news, portals has offered us a great opportunity to quickly get updates on the day-to-day events occurring globally. The information on these portals is retrieved electronically from online databases, processed using a variety of software, and then transmitted to the users. There are multiple advantages of transmitting new electronically, like faster access to the content and the ability to utilize different technologies such as audio, graphics, video, and other interactive elements that are either not being used or aren’t common yet in traditional newspapers.\n",
    "\n",
    "E-news Express, an online news portal, aims to expand its business by acquiring new subscribers. With every visitor to the website taking certain actions based on their interest, the company plans to analyze these actions to understand user interests and determine how to drive better engagement.  The executives at E-news Express are of the opinion that there has been a decline in new monthly subscribers compared to the past year because the current webpage is not designed well enough in terms of the outline & recommended content to keep customers engaged long enough to make a decision to subscribe.\n",
    "\n",
    "[Companies often analyze user responses to two variants of a product to decide which of the two variants is more effective. This experimental technique, known as A/B testing, is used to determine whether a new feature attracts users based on a chosen metric.]\n",
    "\n",
    "\n",
    "## Objective\n",
    "\n",
    "The design team of the company has researched and created a new landing page that has a new outline & more relevant content shown compared to the old page. In order to test the effectiveness of the new landing page in gathering new subscribers, the Data Science team conducted an experiment by randomly selecting 100 users and dividing them equally into two groups. The existing landing page was served to the first group (control group) and the new landing page to the second group (treatment group). Data regarding the interaction of users in both groups with the two versions of the landing page was collected. Being a data scientist in E-news Express, you have been asked to explore the data and perform a statistical analysis (at a significance level of 5%) to determine the effectiveness of the new landing page in gathering new subscribers for the news portal by answering the following questions:\n",
    "\n",
    "1. Do the users spend more time on the new landing page than on the existing landing page?\n",
    "\n",
    "2. Is the conversion rate (the proportion of users who visit the landing page and get converted) for the new page greater than the conversion rate for the old page?\n",
    "\n",
    "3. Does the converted status depend on the preferred language? [Hint: Create a contingency table using the pandas.crosstab() function]\n",
    "\n",
    "4. Is the time spent on the new page the same for the different language users?\n",
    "\n",
    "\n",
    "## Data Dictionary\n",
    "\n",
    "The data contains information regarding the interaction of users in both groups with the two versions of the landing page.\n",
    "\n",
    "1. user_id - Unique user ID of the person visiting the website\n",
    "\n",
    "2. group - Whether the user belongs to the first group (control) or the second group (treatment)\n",
    "\n",
    "3. landing_page - Whether the landing page is new or old\n",
    "\n",
    "4. time_spent_on_the_page - Time (in minutes) spent by the user on the landing page\n",
    "\n",
    "5. converted - Whether the user gets converted to a subscriber of the news portal or not\n",
    "\n",
    "6. language_preferred - Language chosen by the user to view the landing page"
   ]
  },
  {
   "cell_type": "markdown",
   "id": "a6a3d218",
   "metadata": {
    "id": "a6a3d218"
   },
   "source": [
    "## Import all the necessary libraries"
   ]
  },
  {
   "cell_type": "code",
   "execution_count": 1,
   "id": "658c5dec",
   "metadata": {
    "id": "658c5dec"
   },
   "outputs": [],
   "source": [
    "import numpy as np\n",
    "import pandas as pd\n",
    "from matplotlib import pyplot as plt\n",
    "import seaborn as sns\n",
    "import scipy.stats as stats\n",
    "from statsmodels.stats.proportion import proportions_ztest"
   ]
  },
  {
   "cell_type": "markdown",
   "id": "6970dd99",
   "metadata": {
    "id": "6970dd99"
   },
   "source": [
    "## Reading the Data into a DataFrame"
   ]
  },
  {
   "cell_type": "code",
   "execution_count": 2,
   "id": "d3b95640",
   "metadata": {
    "id": "d3b95640"
   },
   "outputs": [],
   "source": [
    "data=pd.read_csv('abtest.csv')"
   ]
  },
  {
   "cell_type": "code",
   "execution_count": 3,
   "id": "20931f45",
   "metadata": {},
   "outputs": [],
   "source": [
    "# makeing a copy of the dataframe to avoid changes to the original dataframe\n",
    "df=data.copy()"
   ]
  },
  {
   "cell_type": "markdown",
   "id": "9d75cfa2",
   "metadata": {
    "id": "9d75cfa2"
   },
   "source": [
    "## Explore the dataset and extract insights using Exploratory Data Analysis"
   ]
  },
  {
   "cell_type": "markdown",
   "id": "27201534",
   "metadata": {
    "id": "27201534"
   },
   "source": [
    "- Data Overview\n",
    "  - Viewing the first and last few rows of the dataset\n",
    "  - Checking the shape of the dataset\n",
    "  - Getting the statistical summary for the variables\n",
    "- Check for missing values\n",
    "- Check for duplicates"
   ]
  },
  {
   "cell_type": "code",
   "execution_count": 4,
   "id": "e1ad11d4",
   "metadata": {
    "id": "e1ad11d4"
   },
   "outputs": [
    {
     "data": {
      "text/html": [
       "<div>\n",
       "<style scoped>\n",
       "    .dataframe tbody tr th:only-of-type {\n",
       "        vertical-align: middle;\n",
       "    }\n",
       "\n",
       "    .dataframe tbody tr th {\n",
       "        vertical-align: top;\n",
       "    }\n",
       "\n",
       "    .dataframe thead th {\n",
       "        text-align: right;\n",
       "    }\n",
       "</style>\n",
       "<table border=\"1\" class=\"dataframe\">\n",
       "  <thead>\n",
       "    <tr style=\"text-align: right;\">\n",
       "      <th></th>\n",
       "      <th>user_id</th>\n",
       "      <th>group</th>\n",
       "      <th>landing_page</th>\n",
       "      <th>time_spent_on_the_page</th>\n",
       "      <th>converted</th>\n",
       "      <th>language_preferred</th>\n",
       "    </tr>\n",
       "  </thead>\n",
       "  <tbody>\n",
       "    <tr>\n",
       "      <th>0</th>\n",
       "      <td>546592</td>\n",
       "      <td>control</td>\n",
       "      <td>old</td>\n",
       "      <td>3.48</td>\n",
       "      <td>no</td>\n",
       "      <td>Spanish</td>\n",
       "    </tr>\n",
       "    <tr>\n",
       "      <th>1</th>\n",
       "      <td>546468</td>\n",
       "      <td>treatment</td>\n",
       "      <td>new</td>\n",
       "      <td>7.13</td>\n",
       "      <td>yes</td>\n",
       "      <td>English</td>\n",
       "    </tr>\n",
       "    <tr>\n",
       "      <th>2</th>\n",
       "      <td>546462</td>\n",
       "      <td>treatment</td>\n",
       "      <td>new</td>\n",
       "      <td>4.40</td>\n",
       "      <td>no</td>\n",
       "      <td>Spanish</td>\n",
       "    </tr>\n",
       "    <tr>\n",
       "      <th>3</th>\n",
       "      <td>546567</td>\n",
       "      <td>control</td>\n",
       "      <td>old</td>\n",
       "      <td>3.02</td>\n",
       "      <td>no</td>\n",
       "      <td>French</td>\n",
       "    </tr>\n",
       "    <tr>\n",
       "      <th>4</th>\n",
       "      <td>546459</td>\n",
       "      <td>treatment</td>\n",
       "      <td>new</td>\n",
       "      <td>4.75</td>\n",
       "      <td>yes</td>\n",
       "      <td>Spanish</td>\n",
       "    </tr>\n",
       "  </tbody>\n",
       "</table>\n",
       "</div>"
      ],
      "text/plain": [
       "   user_id      group landing_page  time_spent_on_the_page converted  \\\n",
       "0   546592    control          old                    3.48        no   \n",
       "1   546468  treatment          new                    7.13       yes   \n",
       "2   546462  treatment          new                    4.40        no   \n",
       "3   546567    control          old                    3.02        no   \n",
       "4   546459  treatment          new                    4.75       yes   \n",
       "\n",
       "  language_preferred  \n",
       "0            Spanish  \n",
       "1            English  \n",
       "2            Spanish  \n",
       "3             French  \n",
       "4            Spanish  "
      ]
     },
     "execution_count": 4,
     "metadata": {},
     "output_type": "execute_result"
    }
   ],
   "source": [
    "# vieing the first 5 rows of the data\n",
    "df.head()"
   ]
  },
  {
   "cell_type": "code",
   "execution_count": 5,
   "id": "52bafe4d",
   "metadata": {},
   "outputs": [
    {
     "data": {
      "text/html": [
       "<div>\n",
       "<style scoped>\n",
       "    .dataframe tbody tr th:only-of-type {\n",
       "        vertical-align: middle;\n",
       "    }\n",
       "\n",
       "    .dataframe tbody tr th {\n",
       "        vertical-align: top;\n",
       "    }\n",
       "\n",
       "    .dataframe thead th {\n",
       "        text-align: right;\n",
       "    }\n",
       "</style>\n",
       "<table border=\"1\" class=\"dataframe\">\n",
       "  <thead>\n",
       "    <tr style=\"text-align: right;\">\n",
       "      <th></th>\n",
       "      <th>user_id</th>\n",
       "      <th>group</th>\n",
       "      <th>landing_page</th>\n",
       "      <th>time_spent_on_the_page</th>\n",
       "      <th>converted</th>\n",
       "      <th>language_preferred</th>\n",
       "    </tr>\n",
       "  </thead>\n",
       "  <tbody>\n",
       "    <tr>\n",
       "      <th>95</th>\n",
       "      <td>546446</td>\n",
       "      <td>treatment</td>\n",
       "      <td>new</td>\n",
       "      <td>5.15</td>\n",
       "      <td>no</td>\n",
       "      <td>Spanish</td>\n",
       "    </tr>\n",
       "    <tr>\n",
       "      <th>96</th>\n",
       "      <td>546544</td>\n",
       "      <td>control</td>\n",
       "      <td>old</td>\n",
       "      <td>6.52</td>\n",
       "      <td>yes</td>\n",
       "      <td>English</td>\n",
       "    </tr>\n",
       "    <tr>\n",
       "      <th>97</th>\n",
       "      <td>546472</td>\n",
       "      <td>treatment</td>\n",
       "      <td>new</td>\n",
       "      <td>7.07</td>\n",
       "      <td>yes</td>\n",
       "      <td>Spanish</td>\n",
       "    </tr>\n",
       "    <tr>\n",
       "      <th>98</th>\n",
       "      <td>546481</td>\n",
       "      <td>treatment</td>\n",
       "      <td>new</td>\n",
       "      <td>6.20</td>\n",
       "      <td>yes</td>\n",
       "      <td>Spanish</td>\n",
       "    </tr>\n",
       "    <tr>\n",
       "      <th>99</th>\n",
       "      <td>546483</td>\n",
       "      <td>treatment</td>\n",
       "      <td>new</td>\n",
       "      <td>5.86</td>\n",
       "      <td>yes</td>\n",
       "      <td>English</td>\n",
       "    </tr>\n",
       "  </tbody>\n",
       "</table>\n",
       "</div>"
      ],
      "text/plain": [
       "    user_id      group landing_page  time_spent_on_the_page converted  \\\n",
       "95   546446  treatment          new                    5.15        no   \n",
       "96   546544    control          old                    6.52       yes   \n",
       "97   546472  treatment          new                    7.07       yes   \n",
       "98   546481  treatment          new                    6.20       yes   \n",
       "99   546483  treatment          new                    5.86       yes   \n",
       "\n",
       "   language_preferred  \n",
       "95            Spanish  \n",
       "96            English  \n",
       "97            Spanish  \n",
       "98            Spanish  \n",
       "99            English  "
      ]
     },
     "execution_count": 5,
     "metadata": {},
     "output_type": "execute_result"
    }
   ],
   "source": [
    "# vieing the last 5 rows of the data\n",
    "df.tail()"
   ]
  },
  {
   "cell_type": "code",
   "execution_count": 6,
   "id": "bf0530ee",
   "metadata": {},
   "outputs": [
    {
     "data": {
      "text/plain": [
       "(100, 6)"
      ]
     },
     "execution_count": 6,
     "metadata": {},
     "output_type": "execute_result"
    }
   ],
   "source": [
    "# Checking the shape of the dataset\n",
    "df.shape"
   ]
  },
  {
   "cell_type": "code",
   "execution_count": 7,
   "id": "46fd309d",
   "metadata": {},
   "outputs": [
    {
     "data": {
      "text/html": [
       "<div>\n",
       "<style scoped>\n",
       "    .dataframe tbody tr th:only-of-type {\n",
       "        vertical-align: middle;\n",
       "    }\n",
       "\n",
       "    .dataframe tbody tr th {\n",
       "        vertical-align: top;\n",
       "    }\n",
       "\n",
       "    .dataframe thead th {\n",
       "        text-align: right;\n",
       "    }\n",
       "</style>\n",
       "<table border=\"1\" class=\"dataframe\">\n",
       "  <thead>\n",
       "    <tr style=\"text-align: right;\">\n",
       "      <th></th>\n",
       "      <th>user_id</th>\n",
       "      <th>group</th>\n",
       "      <th>landing_page</th>\n",
       "      <th>time_spent_on_the_page</th>\n",
       "      <th>converted</th>\n",
       "      <th>language_preferred</th>\n",
       "    </tr>\n",
       "  </thead>\n",
       "  <tbody>\n",
       "    <tr>\n",
       "      <th>count</th>\n",
       "      <td>100.000000</td>\n",
       "      <td>100</td>\n",
       "      <td>100</td>\n",
       "      <td>100.000000</td>\n",
       "      <td>100</td>\n",
       "      <td>100</td>\n",
       "    </tr>\n",
       "    <tr>\n",
       "      <th>unique</th>\n",
       "      <td>NaN</td>\n",
       "      <td>2</td>\n",
       "      <td>2</td>\n",
       "      <td>NaN</td>\n",
       "      <td>2</td>\n",
       "      <td>3</td>\n",
       "    </tr>\n",
       "    <tr>\n",
       "      <th>top</th>\n",
       "      <td>NaN</td>\n",
       "      <td>control</td>\n",
       "      <td>old</td>\n",
       "      <td>NaN</td>\n",
       "      <td>yes</td>\n",
       "      <td>Spanish</td>\n",
       "    </tr>\n",
       "    <tr>\n",
       "      <th>freq</th>\n",
       "      <td>NaN</td>\n",
       "      <td>50</td>\n",
       "      <td>50</td>\n",
       "      <td>NaN</td>\n",
       "      <td>54</td>\n",
       "      <td>34</td>\n",
       "    </tr>\n",
       "    <tr>\n",
       "      <th>mean</th>\n",
       "      <td>546517.000000</td>\n",
       "      <td>NaN</td>\n",
       "      <td>NaN</td>\n",
       "      <td>5.377800</td>\n",
       "      <td>NaN</td>\n",
       "      <td>NaN</td>\n",
       "    </tr>\n",
       "    <tr>\n",
       "      <th>std</th>\n",
       "      <td>52.295779</td>\n",
       "      <td>NaN</td>\n",
       "      <td>NaN</td>\n",
       "      <td>2.378166</td>\n",
       "      <td>NaN</td>\n",
       "      <td>NaN</td>\n",
       "    </tr>\n",
       "    <tr>\n",
       "      <th>min</th>\n",
       "      <td>546443.000000</td>\n",
       "      <td>NaN</td>\n",
       "      <td>NaN</td>\n",
       "      <td>0.190000</td>\n",
       "      <td>NaN</td>\n",
       "      <td>NaN</td>\n",
       "    </tr>\n",
       "    <tr>\n",
       "      <th>25%</th>\n",
       "      <td>546467.750000</td>\n",
       "      <td>NaN</td>\n",
       "      <td>NaN</td>\n",
       "      <td>3.880000</td>\n",
       "      <td>NaN</td>\n",
       "      <td>NaN</td>\n",
       "    </tr>\n",
       "    <tr>\n",
       "      <th>50%</th>\n",
       "      <td>546492.500000</td>\n",
       "      <td>NaN</td>\n",
       "      <td>NaN</td>\n",
       "      <td>5.415000</td>\n",
       "      <td>NaN</td>\n",
       "      <td>NaN</td>\n",
       "    </tr>\n",
       "    <tr>\n",
       "      <th>75%</th>\n",
       "      <td>546567.250000</td>\n",
       "      <td>NaN</td>\n",
       "      <td>NaN</td>\n",
       "      <td>7.022500</td>\n",
       "      <td>NaN</td>\n",
       "      <td>NaN</td>\n",
       "    </tr>\n",
       "    <tr>\n",
       "      <th>max</th>\n",
       "      <td>546592.000000</td>\n",
       "      <td>NaN</td>\n",
       "      <td>NaN</td>\n",
       "      <td>10.710000</td>\n",
       "      <td>NaN</td>\n",
       "      <td>NaN</td>\n",
       "    </tr>\n",
       "  </tbody>\n",
       "</table>\n",
       "</div>"
      ],
      "text/plain": [
       "              user_id    group landing_page  time_spent_on_the_page converted  \\\n",
       "count      100.000000      100          100              100.000000       100   \n",
       "unique            NaN        2            2                     NaN         2   \n",
       "top               NaN  control          old                     NaN       yes   \n",
       "freq              NaN       50           50                     NaN        54   \n",
       "mean    546517.000000      NaN          NaN                5.377800       NaN   \n",
       "std         52.295779      NaN          NaN                2.378166       NaN   \n",
       "min     546443.000000      NaN          NaN                0.190000       NaN   \n",
       "25%     546467.750000      NaN          NaN                3.880000       NaN   \n",
       "50%     546492.500000      NaN          NaN                5.415000       NaN   \n",
       "75%     546567.250000      NaN          NaN                7.022500       NaN   \n",
       "max     546592.000000      NaN          NaN               10.710000       NaN   \n",
       "\n",
       "       language_preferred  \n",
       "count                 100  \n",
       "unique                  3  \n",
       "top               Spanish  \n",
       "freq                   34  \n",
       "mean                  NaN  \n",
       "std                   NaN  \n",
       "min                   NaN  \n",
       "25%                   NaN  \n",
       "50%                   NaN  \n",
       "75%                   NaN  \n",
       "max                   NaN  "
      ]
     },
     "execution_count": 7,
     "metadata": {},
     "output_type": "execute_result"
    }
   ],
   "source": [
    "# Getting the statistical summary for the variables\n",
    "df.describe(include='all')"
   ]
  },
  {
   "cell_type": "code",
   "execution_count": 8,
   "id": "c01c88c7",
   "metadata": {},
   "outputs": [
    {
     "name": "stdout",
     "output_type": "stream",
     "text": [
      "<class 'pandas.core.frame.DataFrame'>\n",
      "RangeIndex: 100 entries, 0 to 99\n",
      "Data columns (total 6 columns):\n",
      " #   Column                  Non-Null Count  Dtype  \n",
      "---  ------                  --------------  -----  \n",
      " 0   user_id                 100 non-null    int64  \n",
      " 1   group                   100 non-null    object \n",
      " 2   landing_page            100 non-null    object \n",
      " 3   time_spent_on_the_page  100 non-null    float64\n",
      " 4   converted               100 non-null    object \n",
      " 5   language_preferred      100 non-null    object \n",
      "dtypes: float64(1), int64(1), object(4)\n",
      "memory usage: 4.8+ KB\n"
     ]
    }
   ],
   "source": [
    "# # check the data types of the columns in the dataset\n",
    "df.info()"
   ]
  },
  {
   "cell_type": "code",
   "execution_count": 9,
   "id": "9a2f0a2f",
   "metadata": {},
   "outputs": [
    {
     "data": {
      "text/plain": [
       "user_id                   0\n",
       "group                     0\n",
       "landing_page              0\n",
       "time_spent_on_the_page    0\n",
       "converted                 0\n",
       "language_preferred        0\n",
       "dtype: int64"
      ]
     },
     "execution_count": 9,
     "metadata": {},
     "output_type": "execute_result"
    }
   ],
   "source": [
    "# Checking for missing values\n",
    "df.isnull().sum()"
   ]
  },
  {
   "cell_type": "code",
   "execution_count": 10,
   "id": "5aaf6462",
   "metadata": {},
   "outputs": [
    {
     "data": {
      "text/plain": [
       "0"
      ]
     },
     "execution_count": 10,
     "metadata": {},
     "output_type": "execute_result"
    }
   ],
   "source": [
    "# Checking for duplicates\n",
    "df.duplicated().sum()"
   ]
  },
  {
   "cell_type": "markdown",
   "id": "5a97a7ea",
   "metadata": {},
   "source": [
    "##### observations:\n",
    "+ There are 100 rows and 6 columns in our dataset\n",
    "+ There are no missing values\n",
    "+ There are no duplicate rows\n",
    "+ 4 out of the 6 columns are of type 'object', 1 is of type 'float' and 1 is of type 'integer'"
   ]
  },
  {
   "cell_type": "markdown",
   "id": "68f3b2c9",
   "metadata": {
    "id": "68f3b2c9"
   },
   "source": [
    "### Univariate Analysis"
   ]
  },
  {
   "cell_type": "markdown",
   "id": "b99b901d",
   "metadata": {
    "id": "1932d0f3"
   },
   "source": [
    "   ###### Ploting the histogram and boxplot of time spent on the page"
   ]
  },
  {
   "cell_type": "code",
   "execution_count": 11,
   "id": "47750b86",
   "metadata": {},
   "outputs": [],
   "source": [
    "# defining a function to plot the graph\n",
    "\n",
    "def histogram_boxplot(data, column):\n",
    "    \n",
    "    sns.boxplot(data=df, x=column, showmeans=True)\n",
    "    plt.title(f'boxplot of {column}', y=1.05)\n",
    "    plt.xlabel(column)\n",
    "    plt.show()\n",
    "    \n",
    "    sns.histplot(data=df, x=column, kde=True)\n",
    "    plt.title(f'histogram of {column}', y=1.05)\n",
    "    plt.xlabel(column)\n",
    "    plt.show()"
   ]
  },
  {
   "cell_type": "code",
   "execution_count": 12,
   "id": "1950821e",
   "metadata": {},
   "outputs": [
    {
     "data": {
      "image/png": "[encoded data removed]",
      "text/plain": [
       "<Figure size 432x288 with 1 Axes>"
      ]
     },
     "metadata": {
      "needs_background": "light"
     },
     "output_type": "display_data"
    },
    {
     "data": {
      "image/png": "[encoded data removed]",
      "text/plain": [
       "<Figure size 432x288 with 1 Axes>"
      ]
     },
     "metadata": {
      "needs_background": "light"
     },
     "output_type": "display_data"
    }
   ],
   "source": [
    "histogram_boxplot(df, 'time_spent_on_the_page')"
   ]
  },
  {
   "cell_type": "markdown",
   "id": "4362a72e",
   "metadata": {},
   "source": [
    "#### visualizing the 'Group' column"
   ]
  },
  {
   "cell_type": "code",
   "execution_count": 13,
   "id": "c6500787",
   "metadata": {},
   "outputs": [
    {
     "data": {
      "text/plain": [
       "array(['control', 'treatment'], dtype=object)"
      ]
     },
     "execution_count": 13,
     "metadata": {},
     "output_type": "execute_result"
    }
   ],
   "source": [
    "#finding the unique values\n",
    "df['group'].unique()"
   ]
  },
  {
   "cell_type": "code",
   "execution_count": 14,
   "id": "fdf8a19f",
   "metadata": {},
   "outputs": [
    {
     "data": {
      "text/plain": [
       "control      50\n",
       "treatment    50\n",
       "Name: group, dtype: int64"
      ]
     },
     "execution_count": 14,
     "metadata": {},
     "output_type": "execute_result"
    }
   ],
   "source": [
    "# finding the value counts\n",
    "df['group'].value_counts()"
   ]
  },
  {
   "cell_type": "code",
   "execution_count": 15,
   "id": "22c2e9f6",
   "metadata": {},
   "outputs": [
    {
     "data": {
      "image/png": "[encoded data removed]",
      "text/plain": [
       "<Figure size 432x288 with 1 Axes>"
      ]
     },
     "metadata": {
      "needs_background": "light"
     },
     "output_type": "display_data"
    }
   ],
   "source": [
    "# plotting the counts\n",
    "sns.countplot(data=df, x='group');"
   ]
  },
  {
   "cell_type": "markdown",
   "id": "af86fce0",
   "metadata": {},
   "source": [
    "#### visualizing the 'landing_page' column "
   ]
  },
  {
   "cell_type": "code",
   "execution_count": 16,
   "id": "bb565217",
   "metadata": {},
   "outputs": [
    {
     "data": {
      "text/plain": [
       "array(['old', 'new'], dtype=object)"
      ]
     },
     "execution_count": 16,
     "metadata": {},
     "output_type": "execute_result"
    }
   ],
   "source": [
    "#finding the unique values\n",
    "df['landing_page'].unique()"
   ]
  },
  {
   "cell_type": "code",
   "execution_count": 17,
   "id": "27d5072c",
   "metadata": {},
   "outputs": [
    {
     "data": {
      "text/plain": [
       "old    50\n",
       "new    50\n",
       "Name: landing_page, dtype: int64"
      ]
     },
     "execution_count": 17,
     "metadata": {},
     "output_type": "execute_result"
    }
   ],
   "source": [
    "# finding the value counts\n",
    "df['landing_page'].value_counts()"
   ]
  },
  {
   "cell_type": "code",
   "execution_count": 18,
   "id": "d483a015",
   "metadata": {},
   "outputs": [
    {
     "data": {
      "image/png": "[encoded data removed]",
      "text/plain": [
       "<Figure size 432x288 with 1 Axes>"
      ]
     },
     "metadata": {
      "needs_background": "light"
     },
     "output_type": "display_data"
    }
   ],
   "source": [
    "# plotting the counts\n",
    "sns.countplot(data=df, x='landing_page');"
   ]
  },
  {
   "cell_type": "markdown",
   "id": "e88f803f",
   "metadata": {},
   "source": [
    "#### visualizing the 'Converted' column"
   ]
  },
  {
   "cell_type": "code",
   "execution_count": 19,
   "id": "9d305ed8",
   "metadata": {},
   "outputs": [
    {
     "data": {
      "text/plain": [
       "array(['no', 'yes'], dtype=object)"
      ]
     },
     "execution_count": 19,
     "metadata": {},
     "output_type": "execute_result"
    }
   ],
   "source": [
    "#finding the unique values\n",
    "df['converted'].unique()"
   ]
  },
  {
   "cell_type": "code",
   "execution_count": 20,
   "id": "6d7d7f0e",
   "metadata": {},
   "outputs": [
    {
     "data": {
      "text/plain": [
       "yes    54\n",
       "no     46\n",
       "Name: converted, dtype: int64"
      ]
     },
     "execution_count": 20,
     "metadata": {},
     "output_type": "execute_result"
    }
   ],
   "source": [
    "# finding the value counts\n",
    "df['converted'].value_counts()"
   ]
  },
  {
   "cell_type": "code",
   "execution_count": 21,
   "id": "b5528db2",
   "metadata": {},
   "outputs": [
    {
     "data": {
      "image/png": "[encoded data removed]",
      "text/plain": [
       "<Figure size 432x288 with 1 Axes>"
      ]
     },
     "metadata": {
      "needs_background": "light"
     },
     "output_type": "display_data"
    }
   ],
   "source": [
    "# plotting the counts\n",
    "sns.countplot(data=df, x='converted');"
   ]
  },
  {
   "cell_type": "markdown",
   "id": "014eca55",
   "metadata": {},
   "source": [
    "#### visualizing the 'language preferred' column "
   ]
  },
  {
   "cell_type": "code",
   "execution_count": 22,
   "id": "c53d3c1b",
   "metadata": {},
   "outputs": [
    {
     "data": {
      "text/plain": [
       "array(['Spanish', 'English', 'French'], dtype=object)"
      ]
     },
     "execution_count": 22,
     "metadata": {},
     "output_type": "execute_result"
    }
   ],
   "source": [
    "#finding the unique values\n",
    "df['language_preferred'].unique()"
   ]
  },
  {
   "cell_type": "code",
   "execution_count": 23,
   "id": "67f9998d",
   "metadata": {},
   "outputs": [
    {
     "data": {
      "text/plain": [
       "Spanish    34\n",
       "French     34\n",
       "English    32\n",
       "Name: language_preferred, dtype: int64"
      ]
     },
     "execution_count": 23,
     "metadata": {},
     "output_type": "execute_result"
    }
   ],
   "source": [
    "# finding the value counts\n",
    "df['language_preferred'].value_counts()"
   ]
  },
  {
   "cell_type": "code",
   "execution_count": 24,
   "id": "568516e6",
   "metadata": {},
   "outputs": [
    {
     "data": {
      "image/png": "[encoded data removed]",
      "text/plain": [
       "<Figure size 432x288 with 1 Axes>"
      ]
     },
     "metadata": {
      "needs_background": "light"
     },
     "output_type": "display_data"
    }
   ],
   "source": [
    "# plotting the counts\n",
    "sns.countplot(data=df, x='language_preferred');"
   ]
  },
  {
   "cell_type": "markdown",
   "id": "875a07b4",
   "metadata": {},
   "source": [
    "##### Conclusion on univariate analysis:"
   ]
  },
  {
   "cell_type": "markdown",
   "id": "f3d42351",
   "metadata": {},
   "source": [
    "+ The time spent is close to a normal distribution\n",
    "+ There are no outliers on the time spent\n",
    "+ 50% of users spend between 3.8 to 7 minutes on the landing page\n",
    "+ Almost half of the users spend less than 5.4 minutes on the landing page.\n",
    "+ From the 100 samples, 34 are Spanish, 34 are French while 32 are English\n",
    "+ The average time spent by the users is 5.37 minutes"
   ]
  },
  {
   "cell_type": "markdown",
   "id": "fad2de2f",
   "metadata": {
    "id": "fad2de2f"
   },
   "source": [
    "### Bivariate Analysis"
   ]
  },
  {
   "cell_type": "markdown",
   "id": "d41f52ad",
   "metadata": {},
   "source": [
    "#### Landing page vs Time spent on the page"
   ]
  },
  {
   "cell_type": "code",
   "execution_count": 25,
   "id": "dba41f37",
   "metadata": {},
   "outputs": [
    {
     "data": {
      "image/png": "[encoded data removed]",
      "text/plain": [
       "<Figure size 432x288 with 1 Axes>"
      ]
     },
     "metadata": {
      "needs_background": "light"
     },
     "output_type": "display_data"
    }
   ],
   "source": [
    "sns.boxplot(data=df,x='landing_page',y='time_spent_on_the_page', showmeans=True)\n",
    "plt.show()"
   ]
  },
  {
   "cell_type": "code",
   "execution_count": 26,
   "id": "e30fc1a3",
   "metadata": {},
   "outputs": [
    {
     "data": {
      "text/html": [
       "<div>\n",
       "<style scoped>\n",
       "    .dataframe tbody tr th:only-of-type {\n",
       "        vertical-align: middle;\n",
       "    }\n",
       "\n",
       "    .dataframe tbody tr th {\n",
       "        vertical-align: top;\n",
       "    }\n",
       "\n",
       "    .dataframe thead th {\n",
       "        text-align: right;\n",
       "    }\n",
       "</style>\n",
       "<table border=\"1\" class=\"dataframe\">\n",
       "  <thead>\n",
       "    <tr style=\"text-align: right;\">\n",
       "      <th></th>\n",
       "      <th>count</th>\n",
       "      <th>mean</th>\n",
       "      <th>std</th>\n",
       "      <th>min</th>\n",
       "      <th>25%</th>\n",
       "      <th>50%</th>\n",
       "      <th>75%</th>\n",
       "      <th>max</th>\n",
       "    </tr>\n",
       "  </thead>\n",
       "  <tbody>\n",
       "    <tr>\n",
       "      <th>user_id</th>\n",
       "      <td>50.0</td>\n",
       "      <td>546467.5000</td>\n",
       "      <td>14.577380</td>\n",
       "      <td>546443.00</td>\n",
       "      <td>546455.250</td>\n",
       "      <td>546467.500</td>\n",
       "      <td>546479.75</td>\n",
       "      <td>546492.00</td>\n",
       "    </tr>\n",
       "    <tr>\n",
       "      <th>time_spent_on_the_page</th>\n",
       "      <td>50.0</td>\n",
       "      <td>6.2232</td>\n",
       "      <td>1.817031</td>\n",
       "      <td>1.65</td>\n",
       "      <td>5.175</td>\n",
       "      <td>6.105</td>\n",
       "      <td>7.16</td>\n",
       "      <td>10.71</td>\n",
       "    </tr>\n",
       "  </tbody>\n",
       "</table>\n",
       "</div>"
      ],
      "text/plain": [
       "                        count         mean        std        min         25%  \\\n",
       "user_id                  50.0  546467.5000  14.577380  546443.00  546455.250   \n",
       "time_spent_on_the_page   50.0       6.2232   1.817031       1.65       5.175   \n",
       "\n",
       "                               50%        75%        max  \n",
       "user_id                 546467.500  546479.75  546492.00  \n",
       "time_spent_on_the_page       6.105       7.16      10.71  "
      ]
     },
     "execution_count": 26,
     "metadata": {},
     "output_type": "execute_result"
    }
   ],
   "source": [
    "# getting the statistics of the new landing page (treatment group) users\n",
    "new_page_statistics=df.groupby('landing_page').get_group('new').describe().T\n",
    "new_page_statistics"
   ]
  },
  {
   "cell_type": "code",
   "execution_count": 27,
   "id": "09298791",
   "metadata": {},
   "outputs": [
    {
     "data": {
      "text/html": [
       "<div>\n",
       "<style scoped>\n",
       "    .dataframe tbody tr th:only-of-type {\n",
       "        vertical-align: middle;\n",
       "    }\n",
       "\n",
       "    .dataframe tbody tr th {\n",
       "        vertical-align: top;\n",
       "    }\n",
       "\n",
       "    .dataframe thead th {\n",
       "        text-align: right;\n",
       "    }\n",
       "</style>\n",
       "<table border=\"1\" class=\"dataframe\">\n",
       "  <thead>\n",
       "    <tr style=\"text-align: right;\">\n",
       "      <th></th>\n",
       "      <th>count</th>\n",
       "      <th>mean</th>\n",
       "      <th>std</th>\n",
       "      <th>min</th>\n",
       "      <th>25%</th>\n",
       "      <th>50%</th>\n",
       "      <th>75%</th>\n",
       "      <th>max</th>\n",
       "    </tr>\n",
       "  </thead>\n",
       "  <tbody>\n",
       "    <tr>\n",
       "      <th>user_id</th>\n",
       "      <td>50.0</td>\n",
       "      <td>546566.5000</td>\n",
       "      <td>17.677670</td>\n",
       "      <td>546493.00</td>\n",
       "      <td>546555.25</td>\n",
       "      <td>546567.50</td>\n",
       "      <td>546579.7500</td>\n",
       "      <td>546592.0</td>\n",
       "    </tr>\n",
       "    <tr>\n",
       "      <th>time_spent_on_the_page</th>\n",
       "      <td>50.0</td>\n",
       "      <td>4.5324</td>\n",
       "      <td>2.581975</td>\n",
       "      <td>0.19</td>\n",
       "      <td>2.72</td>\n",
       "      <td>4.38</td>\n",
       "      <td>6.4425</td>\n",
       "      <td>10.3</td>\n",
       "    </tr>\n",
       "  </tbody>\n",
       "</table>\n",
       "</div>"
      ],
      "text/plain": [
       "                        count         mean        std        min        25%  \\\n",
       "user_id                  50.0  546566.5000  17.677670  546493.00  546555.25   \n",
       "time_spent_on_the_page   50.0       4.5324   2.581975       0.19       2.72   \n",
       "\n",
       "                              50%          75%       max  \n",
       "user_id                 546567.50  546579.7500  546592.0  \n",
       "time_spent_on_the_page       4.38       6.4425      10.3  "
      ]
     },
     "execution_count": 27,
     "metadata": {},
     "output_type": "execute_result"
    }
   ],
   "source": [
    "# getting the statistics of the old landing page (control group) users\n",
    "old_page_statistics=df.groupby('landing_page').get_group('old').describe().T\n",
    "old_page_statistics"
   ]
  },
  {
   "cell_type": "markdown",
   "id": "4efec229",
   "metadata": {},
   "source": [
    "#### Conclusion"
   ]
  },
  {
   "cell_type": "markdown",
   "id": "c222f946",
   "metadata": {},
   "source": [
    "+ The new page users(the treatments group) spent an average of 6.22 minute while the old page users (the control group) spent an average of 4.53 minutes\n",
    "+ 50% of new page users(the treatments group) spent less than 6.1 minutes as opposed to 4.38 minutes spent by the old page users (the control group)\n",
    "+ 50% of the users in the the treatments group spent between 5.2 to 7.16 minutes while 50% of the users in the control group spent between 2.72 to 6.44 minutes"
   ]
  },
  {
   "cell_type": "markdown",
   "id": "6bcafdb9",
   "metadata": {
    "id": "58e9a1d0"
   },
   "source": [
    "#### Conversion status vs Time spent on the page"
   ]
  },
  {
   "cell_type": "code",
   "execution_count": 28,
   "id": "3c099e1e",
   "metadata": {},
   "outputs": [
    {
     "data": {
      "image/png": "[encoded data removed]",
      "text/plain": [
       "<Figure size 432x288 with 1 Axes>"
      ]
     },
     "metadata": {
      "needs_background": "light"
     },
     "output_type": "display_data"
    }
   ],
   "source": [
    "sns.boxplot(data=df,x='converted',y='time_spent_on_the_page', showmeans=True)\n",
    "plt.show()"
   ]
  },
  {
   "cell_type": "code",
   "execution_count": 29,
   "id": "4aa38921",
   "metadata": {},
   "outputs": [
    {
     "data": {
      "text/html": [
       "<div>\n",
       "<style scoped>\n",
       "    .dataframe tbody tr th:only-of-type {\n",
       "        vertical-align: middle;\n",
       "    }\n",
       "\n",
       "    .dataframe tbody tr th {\n",
       "        vertical-align: top;\n",
       "    }\n",
       "\n",
       "    .dataframe thead th {\n",
       "        text-align: right;\n",
       "    }\n",
       "</style>\n",
       "<table border=\"1\" class=\"dataframe\">\n",
       "  <thead>\n",
       "    <tr style=\"text-align: right;\">\n",
       "      <th></th>\n",
       "      <th>count</th>\n",
       "      <th>mean</th>\n",
       "      <th>std</th>\n",
       "      <th>min</th>\n",
       "      <th>25%</th>\n",
       "      <th>50%</th>\n",
       "      <th>75%</th>\n",
       "      <th>max</th>\n",
       "    </tr>\n",
       "  </thead>\n",
       "  <tbody>\n",
       "    <tr>\n",
       "      <th>user_id</th>\n",
       "      <td>54.0</td>\n",
       "      <td>546503.555556</td>\n",
       "      <td>48.645296</td>\n",
       "      <td>546444.00</td>\n",
       "      <td>546464.5</td>\n",
       "      <td>546481.500</td>\n",
       "      <td>546552.7500</td>\n",
       "      <td>546588.00</td>\n",
       "    </tr>\n",
       "    <tr>\n",
       "      <th>time_spent_on_the_page</th>\n",
       "      <td>54.0</td>\n",
       "      <td>6.623148</td>\n",
       "      <td>1.708427</td>\n",
       "      <td>2.58</td>\n",
       "      <td>5.5</td>\n",
       "      <td>6.495</td>\n",
       "      <td>7.3675</td>\n",
       "      <td>10.71</td>\n",
       "    </tr>\n",
       "  </tbody>\n",
       "</table>\n",
       "</div>"
      ],
      "text/plain": [
       "                        count           mean        std        min       25%  \\\n",
       "user_id                  54.0  546503.555556  48.645296  546444.00  546464.5   \n",
       "time_spent_on_the_page   54.0       6.623148   1.708427       2.58       5.5   \n",
       "\n",
       "                               50%          75%        max  \n",
       "user_id                 546481.500  546552.7500  546588.00  \n",
       "time_spent_on_the_page       6.495       7.3675      10.71  "
      ]
     },
     "execution_count": 29,
     "metadata": {},
     "output_type": "execute_result"
    }
   ],
   "source": [
    "# getting the statistics of the converted users\n",
    "converted_users_statistics=df.groupby('converted').get_group('yes').describe().T\n",
    "converted_users_statistics"
   ]
  },
  {
   "cell_type": "code",
   "execution_count": 30,
   "id": "12a7764f",
   "metadata": {},
   "outputs": [
    {
     "data": {
      "text/html": [
       "<div>\n",
       "<style scoped>\n",
       "    .dataframe tbody tr th:only-of-type {\n",
       "        vertical-align: middle;\n",
       "    }\n",
       "\n",
       "    .dataframe tbody tr th {\n",
       "        vertical-align: top;\n",
       "    }\n",
       "\n",
       "    .dataframe thead th {\n",
       "        text-align: right;\n",
       "    }\n",
       "</style>\n",
       "<table border=\"1\" class=\"dataframe\">\n",
       "  <thead>\n",
       "    <tr style=\"text-align: right;\">\n",
       "      <th></th>\n",
       "      <th>count</th>\n",
       "      <th>mean</th>\n",
       "      <th>std</th>\n",
       "      <th>min</th>\n",
       "      <th>25%</th>\n",
       "      <th>50%</th>\n",
       "      <th>75%</th>\n",
       "      <th>max</th>\n",
       "    </tr>\n",
       "  </thead>\n",
       "  <tbody>\n",
       "    <tr>\n",
       "      <th>user_id</th>\n",
       "      <td>46.0</td>\n",
       "      <td>546532.782609</td>\n",
       "      <td>52.517474</td>\n",
       "      <td>546443.00</td>\n",
       "      <td>546481.0000</td>\n",
       "      <td>546561.50</td>\n",
       "      <td>546573.7500</td>\n",
       "      <td>546592.00</td>\n",
       "    </tr>\n",
       "    <tr>\n",
       "      <th>time_spent_on_the_page</th>\n",
       "      <td>46.0</td>\n",
       "      <td>3.915870</td>\n",
       "      <td>2.226897</td>\n",
       "      <td>0.19</td>\n",
       "      <td>2.3375</td>\n",
       "      <td>3.98</td>\n",
       "      <td>4.9225</td>\n",
       "      <td>9.15</td>\n",
       "    </tr>\n",
       "  </tbody>\n",
       "</table>\n",
       "</div>"
      ],
      "text/plain": [
       "                        count           mean        std        min  \\\n",
       "user_id                  46.0  546532.782609  52.517474  546443.00   \n",
       "time_spent_on_the_page   46.0       3.915870   2.226897       0.19   \n",
       "\n",
       "                                25%        50%          75%        max  \n",
       "user_id                 546481.0000  546561.50  546573.7500  546592.00  \n",
       "time_spent_on_the_page       2.3375       3.98       4.9225       9.15  "
      ]
     },
     "execution_count": 30,
     "metadata": {},
     "output_type": "execute_result"
    }
   ],
   "source": [
    "# getting the statistics of the unconverted users\n",
    "unconverted_users_statistics=df.groupby('converted').get_group('no').describe().T\n",
    "unconverted_users_statistics"
   ]
  },
  {
   "cell_type": "markdown",
   "id": "fd3e5d67",
   "metadata": {},
   "source": [
    "#### Conclusion"
   ]
  },
  {
   "cell_type": "markdown",
   "id": "d25842fb",
   "metadata": {},
   "source": [
    "+ The users that converted spent an average of 6.6 minute while the unconverted users spent an average of 3.39 minutes\n",
    "+ 50% of users that converted spent less than 6.49 minutes as opposed to 3.98 minutes spent by the unconverted users\n",
    "+ 50% of the users that were converted spent between 5.5 to 7.36 minutes while 50% of the users that were not converted spent between 2.3 to 4.9 minutes"
   ]
  },
  {
   "cell_type": "markdown",
   "id": "c3885b1f",
   "metadata": {},
   "source": [
    "#### Language preferred vs Time spent on the page"
   ]
  },
  {
   "cell_type": "code",
   "execution_count": 31,
   "id": "ca30d701",
   "metadata": {},
   "outputs": [
    {
     "data": {
      "image/png": "[encoded data removed]",
      "text/plain": [
       "<Figure size 432x288 with 1 Axes>"
      ]
     },
     "metadata": {
      "needs_background": "light"
     },
     "output_type": "display_data"
    }
   ],
   "source": [
    "sns.boxplot(data=df,x='language_preferred',y='time_spent_on_the_page', showmeans=True)\n",
    "plt.show()"
   ]
  },
  {
   "cell_type": "markdown",
   "id": "8aacf4d9",
   "metadata": {},
   "source": [
    "###### Conclusion"
   ]
  },
  {
   "cell_type": "markdown",
   "id": "b645437d",
   "metadata": {},
   "source": [
    "+ The Spanish users spend the least range of time compared to other users with 50% of them spending between 4.5 to 6.6 minutes"
   ]
  },
  {
   "cell_type": "markdown",
   "id": "14e1c6ca",
   "metadata": {},
   "source": [
    "#### converted vs landing_page"
   ]
  },
  {
   "cell_type": "code",
   "execution_count": 32,
   "id": "2313b48d",
   "metadata": {},
   "outputs": [
    {
     "data": {
      "image/png": "[encoded data removed]",
      "text/plain": [
       "<Figure size 432x360 with 1 Axes>"
      ]
     },
     "metadata": {
      "needs_background": "light"
     },
     "output_type": "display_data"
    }
   ],
   "source": [
    "plt.figure(figsize=(6,5))\n",
    "sns.histplot(data=df, x=\"converted\", hue=\"landing_page\", binwidth=0.5, stat=\"count\", multiple=\"stack\")\n",
    "plt.xticks(rotation=90)\n",
    "plt.show()"
   ]
  },
  {
   "cell_type": "code",
   "execution_count": 33,
   "id": "310328e0",
   "metadata": {},
   "outputs": [
    {
     "data": {
      "image/png": "[encoded data removed]",
      "text/plain": [
       "<Figure size 432x288 with 1 Axes>"
      ]
     },
     "metadata": {
      "needs_background": "light"
     },
     "output_type": "display_data"
    }
   ],
   "source": [
    "#plotting with sns.countplot\n",
    "sns.countplot(data=df, x='landing_page', hue='converted');"
   ]
  },
  {
   "cell_type": "markdown",
   "id": "d16389da",
   "metadata": {},
   "source": [
    "##### Conclusion:"
   ]
  },
  {
   "cell_type": "markdown",
   "id": "05266243",
   "metadata": {},
   "source": [
    "+ About 34 people from the treatment group gets converted while about 21 from the control group gets converted\n",
    "+ More users gets converted from the new landing page than from the old landing page"
   ]
  },
  {
   "cell_type": "markdown",
   "id": "27906576",
   "metadata": {
    "id": "27906576"
   },
   "source": [
    "## 1. Do the users spend more time on the new landing page than the existing landing page?"
   ]
  },
  {
   "cell_type": "markdown",
   "id": "e5fdf0c8",
   "metadata": {
    "id": "e5fdf0c8"
   },
   "source": [
    "### Perform Visual Analysis"
   ]
  },
  {
   "cell_type": "code",
   "execution_count": 34,
   "id": "6eZJa41eg21n",
   "metadata": {
    "id": "6eZJa41eg21n"
   },
   "outputs": [
    {
     "data": {
      "image/png": "[encoded data removed]",
      "text/plain": [
       "<Figure size 432x288 with 1 Axes>"
      ]
     },
     "metadata": {
      "needs_background": "light"
     },
     "output_type": "display_data"
    }
   ],
   "source": [
    "#potting the boxplot of landing page and time_spent_on_the_page\n",
    "\n",
    "sns.boxplot(x = 'landing_page', y = 'time_spent_on_the_page', data = df)\n",
    "plt.show()"
   ]
  },
  {
   "cell_type": "markdown",
   "id": "56b3dafd",
   "metadata": {
    "id": "56b3dafd"
   },
   "source": [
    "### Step i: Define the null and alternate hypotheses"
   ]
  },
  {
   "cell_type": "markdown",
   "id": "d2ac77ef",
   "metadata": {
    "id": "d2ac77ef"
   },
   "source": [
    "###### Stating the null and alternative hypothesis\n",
    "\n",
    "The null and alternative hypotheses can be formulated as:\n",
    "\n",
    "> $H_0:$ The mean time spent on the new landing page is the same as the time spent on the existing page <br>\n",
    "> $H_a:$ The mean time spent on the new landing page is more than the time spent on the existing page\n",
    "\n",
    "Let $\\mu_1, \\mu_2$ be the mean time spent on the new landing page and the existing page respectively.<br>\n",
    "\n",
    "Mathematically, the above formulated hypotheses can be written as:\n",
    "\n",
    "**null hypothesis**\n",
    "\n",
    ">$H_0:\\mu_1=\\mu_2$\n",
    "\n",
    "**alternate hypothesis**\n",
    "\n",
    ">$H_a:\\mu_1>\\mu_2$"
   ]
  },
  {
   "cell_type": "markdown",
   "id": "c7ee4907",
   "metadata": {
    "id": "c7ee4907"
   },
   "source": [
    "### Step ii: Select Appropriate test"
   ]
  },
  {
   "cell_type": "markdown",
   "id": "2c183cd7",
   "metadata": {
    "id": "2c183cd7"
   },
   "source": [
    "This is a case of a one-tailed test for comparing the means from two populations. As we are comparing means calculated from two different population, the two groups become independent. Also, the population standard deviations are unknown. Hence, a two-sample independent t-test is the most appropriate test for this case.\n",
    "\n",
    "**Two-sample independent t-test**\n",
    "\n",
    "In a two-sample independent t-test, we compare the means from two independent populations to check if they differ significantly. We are provided that the sample is randomly selected."
   ]
  },
  {
   "cell_type": "markdown",
   "id": "3f58c9a7",
   "metadata": {
    "id": "3f58c9a7"
   },
   "source": [
    "### Step iii: Decide the significance level"
   ]
  },
  {
   "cell_type": "markdown",
   "id": "92d7d7ee",
   "metadata": {
    "id": "92d7d7ee"
   },
   "source": [
    "As given in the problem statement, we select $\\alpha = 0.05$."
   ]
  },
  {
   "cell_type": "markdown",
   "id": "5fed2eac",
   "metadata": {
    "id": "5fed2eac"
   },
   "source": [
    "### Step iv: Collect and prepare data"
   ]
  },
  {
   "cell_type": "code",
   "execution_count": 35,
   "id": "80e441e9",
   "metadata": {},
   "outputs": [
    {
     "data": {
      "text/plain": [
       "array(['old', 'new'], dtype=object)"
      ]
     },
     "execution_count": 35,
     "metadata": {},
     "output_type": "execute_result"
    }
   ],
   "source": [
    "# observing the unique values in the landing page column\n",
    "df['landing_page'].unique()"
   ]
  },
  {
   "cell_type": "code",
   "execution_count": 36,
   "id": "f5a59495",
   "metadata": {
    "id": "f5a59495"
   },
   "outputs": [],
   "source": [
    "#grouping the landing page to saparate them into their disctint values\n",
    "landing_page_group = df.groupby('landing_page')\n",
    "\n",
    "#extracting the 'time_spent_on_the_page' from each unique value o the landing page\n",
    "time_new_page = landing_page_group.get_group('new')['time_spent_on_the_page']\n",
    "time_old_page = landing_page_group.get_group('old')['time_spent_on_the_page']"
   ]
  },
  {
   "cell_type": "markdown",
   "id": "f5c5258d",
   "metadata": {
    "id": "f5c5258d"
   },
   "source": [
    "### Step v: Calculate the p-value"
   ]
  },
  {
   "cell_type": "code",
   "execution_count": 37,
   "id": "fac8594a",
   "metadata": {
    "id": "fac8594a"
   },
   "outputs": [
    {
     "data": {
      "text/plain": [
       "0.00013"
      ]
     },
     "execution_count": 37,
     "metadata": {},
     "output_type": "execute_result"
    }
   ],
   "source": [
    "# calculating the p-value with the two-sample independent t-test\n",
    "test_statistics, p_value = stats.ttest_ind(time_new_page, time_old_page, alternative='greater')\n",
    "p_value=round(p_value, 5)\n",
    "p_value"
   ]
  },
  {
   "cell_type": "markdown",
   "id": "359b12f8",
   "metadata": {
    "id": "359b12f8"
   },
   "source": [
    "### Step vi: Compare the p-value with $\\alpha$"
   ]
  },
  {
   "cell_type": "code",
   "execution_count": 38,
   "id": "7be47289",
   "metadata": {
    "id": "7be47289"
   },
   "outputs": [
    {
     "name": "stdout",
     "output_type": "stream",
     "text": [
      "As the p-value 0.00013 is less than the level of significance, we reject the null hypothesis.\n"
     ]
    }
   ],
   "source": [
    "# print the conclusion based on p-value\n",
    "if p_value < 0.05:\n",
    "    print(f'As the p-value {p_value} is less than the level of significance, we reject the null hypothesis.')\n",
    "else:\n",
    "    print(f'As the p-value {p_value} is greater than the level of significance, we fail to reject the null hypothesis.')"
   ]
  },
  {
   "cell_type": "markdown",
   "id": "d9affc84",
   "metadata": {
    "id": "d9affc84"
   },
   "source": [
    "### Step vii:  Draw inference"
   ]
  },
  {
   "cell_type": "markdown",
   "id": "6b16dd4b",
   "metadata": {
    "id": "6b16dd4b"
   },
   "source": [
    "As the p-value (~0.00013) is less than the level of significance, we reject the null hypothesis. Hence, we do have enough evidence to support the claim that the users spend more time on the new landing page than on the existing landing page."
   ]
  },
  {
   "cell_type": "markdown",
   "id": "353e9d24",
   "metadata": {
    "id": "353e9d24"
   },
   "source": [
    "## 2. Is the conversion rate (the proportion of users who visit the landing page and get converted) for the new page greater than the conversion rate for the old page?"
   ]
  },
  {
   "cell_type": "markdown",
   "id": "2dd8fe78",
   "metadata": {
    "id": "b7f52898"
   },
   "source": [
    "#### Performing Visual Analysis"
   ]
  },
  {
   "cell_type": "code",
   "execution_count": 39,
   "id": "082f86de",
   "metadata": {},
   "outputs": [
    {
     "data": {
      "image/png": "[encoded data removed]",
      "text/plain": [
       "<Figure size 432x288 with 1 Axes>"
      ]
     },
     "metadata": {
      "needs_background": "light"
     },
     "output_type": "display_data"
    }
   ],
   "source": [
    "#plotting with sns.countplot\n",
    "sns.countplot(data=df, x='landing_page', hue='converted');"
   ]
  },
  {
   "cell_type": "code",
   "execution_count": 40,
   "id": "64ade2bf",
   "metadata": {},
   "outputs": [
    {
     "data": {
      "image/png": "[encoded data removed]",
      "text/plain": [
       "<Figure size 432x288 with 1 Axes>"
      ]
     },
     "metadata": {
      "needs_background": "light"
     },
     "output_type": "display_data"
    }
   ],
   "source": [
    "#plotting a stakced bar with the pandas.crosstab function\n",
    "pd.crosstab(df['landing_page'],df['converted'],normalize='index').plot(kind=\"bar\",stacked=True)\n",
    "plt.legend(bbox_to_anchor=[1,1])\n",
    "plt.show()"
   ]
  },
  {
   "cell_type": "markdown",
   "id": "dcc018b5",
   "metadata": {},
   "source": [
    "### Step i: Define the null and alternate hypotheses"
   ]
  },
  {
   "cell_type": "markdown",
   "id": "86487bce",
   "metadata": {},
   "source": [
    "###### Stating the null and alternative hypothesis\n",
    "\n",
    "Let $p_1$ be the proportion of users who visit the the new landing page and get converted.<br>\n",
    "Let $p_2$ be the proportion of users who visit the the old landing page and get converted.\n",
    "\n",
    "**The null hypothesis is**\n",
    "\n",
    ">$H_0:p_1 =p_2$\n",
    "\n",
    "**The alternate hypothesis is**\n",
    "\n",
    ">$H_a:p_1 > p_2$"
   ]
  },
  {
   "cell_type": "markdown",
   "id": "52c5674d",
   "metadata": {},
   "source": [
    "### Step ii: Selecting Appropriate test"
   ]
  },
  {
   "cell_type": "markdown",
   "id": "16bf18b4",
   "metadata": {},
   "source": [
    "Since this is a one-tailed test involving the Comparison of sample proportions from two populations we shall use the **Two Proportion Z-test** but we will need to confirm if our data meets all the proportion for a **Two Proportion Z-test**"
   ]
  },
  {
   "cell_type": "markdown",
   "id": "5ba60ec2",
   "metadata": {},
   "source": [
    "#### Let's test whether the Z-test assumptions are satisfied or not\n",
    "+ Binomally distributed population - Yes, \n",
    "+ Random sampling from the population - Yes\n",
    "+ Can the binomial distribution approximated to normal distribution - Yes. For binary data, CLT works slower than usual. The standard thing is to check whether np and n(1-p) are greater than or equal to 10. Here, n and p refer to the sample size and sample proportion respectively."
   ]
  },
  {
   "cell_type": "code",
   "execution_count": 41,
   "id": "515d1f0f",
   "metadata": {},
   "outputs": [
    {
     "data": {
      "text/html": [
       "<div>\n",
       "<style scoped>\n",
       "    .dataframe tbody tr th:only-of-type {\n",
       "        vertical-align: middle;\n",
       "    }\n",
       "\n",
       "    .dataframe tbody tr th {\n",
       "        vertical-align: top;\n",
       "    }\n",
       "\n",
       "    .dataframe thead th {\n",
       "        text-align: right;\n",
       "    }\n",
       "</style>\n",
       "<table border=\"1\" class=\"dataframe\">\n",
       "  <thead>\n",
       "    <tr style=\"text-align: right;\">\n",
       "      <th>landing_page</th>\n",
       "      <th>new</th>\n",
       "      <th>old</th>\n",
       "    </tr>\n",
       "    <tr>\n",
       "      <th>converted</th>\n",
       "      <th></th>\n",
       "      <th></th>\n",
       "    </tr>\n",
       "  </thead>\n",
       "  <tbody>\n",
       "    <tr>\n",
       "      <th>no</th>\n",
       "      <td>17</td>\n",
       "      <td>29</td>\n",
       "    </tr>\n",
       "    <tr>\n",
       "      <th>yes</th>\n",
       "      <td>33</td>\n",
       "      <td>21</td>\n",
       "    </tr>\n",
       "  </tbody>\n",
       "</table>\n",
       "</div>"
      ],
      "text/plain": [
       "landing_page  new  old\n",
       "converted             \n",
       "no             17   29\n",
       "yes            33   21"
      ]
     },
     "execution_count": 41,
     "metadata": {},
     "output_type": "execute_result"
    }
   ],
   "source": [
    "#creating a contingency table to have a general view of the proportion\n",
    "contingency_table = pd.crosstab(df['converted'], df['landing_page'])\n",
    "contingency_table"
   ]
  },
  {
   "cell_type": "code",
   "execution_count": 42,
   "id": "7837d3f3",
   "metadata": {},
   "outputs": [
    {
     "data": {
      "text/html": [
       "<div>\n",
       "<style scoped>\n",
       "    .dataframe tbody tr th:only-of-type {\n",
       "        vertical-align: middle;\n",
       "    }\n",
       "\n",
       "    .dataframe tbody tr th {\n",
       "        vertical-align: top;\n",
       "    }\n",
       "\n",
       "    .dataframe thead th {\n",
       "        text-align: right;\n",
       "    }\n",
       "</style>\n",
       "<table border=\"1\" class=\"dataframe\">\n",
       "  <thead>\n",
       "    <tr style=\"text-align: right;\">\n",
       "      <th>landing_page</th>\n",
       "      <th>new</th>\n",
       "      <th>old</th>\n",
       "      <th>total</th>\n",
       "    </tr>\n",
       "    <tr>\n",
       "      <th>converted</th>\n",
       "      <th></th>\n",
       "      <th></th>\n",
       "      <th></th>\n",
       "    </tr>\n",
       "  </thead>\n",
       "  <tbody>\n",
       "    <tr>\n",
       "      <th>no</th>\n",
       "      <td>17</td>\n",
       "      <td>29</td>\n",
       "      <td>46</td>\n",
       "    </tr>\n",
       "    <tr>\n",
       "      <th>yes</th>\n",
       "      <td>33</td>\n",
       "      <td>21</td>\n",
       "      <td>54</td>\n",
       "    </tr>\n",
       "    <tr>\n",
       "      <th>total</th>\n",
       "      <td>50</td>\n",
       "      <td>50</td>\n",
       "      <td>100</td>\n",
       "    </tr>\n",
       "  </tbody>\n",
       "</table>\n",
       "</div>"
      ],
      "text/plain": [
       "landing_page  new  old  total\n",
       "converted                    \n",
       "no             17   29     46\n",
       "yes            33   21     54\n",
       "total          50   50    100"
      ]
     },
     "execution_count": 42,
     "metadata": {},
     "output_type": "execute_result"
    }
   ],
   "source": [
    "#make a copy of the contingency_table\n",
    "proportion_table = contingency_table.copy()\n",
    "\n",
    "#adding a new row and column named total, to the contingency table to sum up the rows and colums\n",
    "proportion_table['total']=proportion_table.sum(axis=1)  \n",
    "proportion_table.loc['total'] = proportion_table.sum(axis=0)  \n",
    "proportion_table"
   ]
  },
  {
   "cell_type": "markdown",
   "id": "eb881ad5",
   "metadata": {},
   "source": [
    "Let's check whether np and n(1-p) are greater than or equal to 10. Here, n and p refer to the sample size and sample proportion respectively.\n",
    "\n",
    "Taking our values from the proportion_table above\n",
    ">$np_1 = 50\\cdot \\frac{33}{50} =33 \\geq 10\\\\\n",
    "n(1-p_1) = 50 \\cdot \\frac{50-33}{200} =17 \\geq 10 \\\\\n",
    "np_2 = 50\\cdot \\frac{21}{50} =21 \\geq 10\\\\\n",
    "n(1-p_2) = 50 \\cdot \\frac{50-21}{50} =29 \\geq 10 $\n"
   ]
  },
  {
   "cell_type": "markdown",
   "id": "cbb57236",
   "metadata": {},
   "source": [
    "from the above calculation we can say that the the binomial distribution approximated to normal distribution since the np and n(1-p) are greater than or equal to 10"
   ]
  },
  {
   "cell_type": "markdown",
   "id": "cab1c738",
   "metadata": {},
   "source": [
    "### Step iii: Decide the significance level"
   ]
  },
  {
   "cell_type": "markdown",
   "id": "3996f3fd",
   "metadata": {},
   "source": [
    "As given in the problem statement, we select α = 0.05."
   ]
  },
  {
   "cell_type": "markdown",
   "id": "bdaf1ed0",
   "metadata": {},
   "source": [
    "### Step iv: Collecting and preparing the data"
   ]
  },
  {
   "cell_type": "code",
   "execution_count": 43,
   "id": "8b326cfd",
   "metadata": {},
   "outputs": [
    {
     "name": "stdout",
     "output_type": "stream",
     "text": [
      "The numbers of new page and old page converters are 33 and 21 respectively\n",
      "The total numbers of new page users and old page users are 50 and 50 respectively\n"
     ]
    }
   ],
   "source": [
    "\n",
    "# Is the conversion rate (the proportion of users who visit the landing page and get converted) for the new page \n",
    "# greater than the conversion rate for the old page?\n",
    "\n",
    "# number of new landing page converters\n",
    "new_page_converted = df[df['landing_page']=='new'].converted.value_counts()['yes']\n",
    "# number of old landing page converters\n",
    "old_page_converted = df[df['landing_page']=='old'].converted.value_counts()['yes']\n",
    "\n",
    "print(f'The numbers of new page and old page converters are {new_page_converted} and {old_page_converted} respectively')\n",
    "\n",
    "# total number of new landing pages in the data\n",
    "num_new_page = df['landing_page'].value_counts()['new']\n",
    "\n",
    "# total number of old landing pages in the data\n",
    "num_old_page = df['landing_page'].value_counts()['old']\n",
    "\n",
    "print('The total numbers of new page users and old page users are {0} and {1} respectively'.format(num_new_page, num_old_page))"
   ]
  },
  {
   "cell_type": "code",
   "execution_count": 44,
   "id": "23c5f7f0",
   "metadata": {},
   "outputs": [
    {
     "name": "stdout",
     "output_type": "stream",
     "text": [
      " The proportions of converters of the new and old pages are 0.66, 0.42 respectively\n"
     ]
    }
   ],
   "source": [
    "print(f' The proportions of converters of the new and old pages are {round(33/50,2)}, {round(21/50,2)} respectively')"
   ]
  },
  {
   "cell_type": "markdown",
   "id": "4eddb085",
   "metadata": {},
   "source": [
    "The proportions in the sample are different. Let's conduct the test to see if this difference is significant."
   ]
  },
  {
   "cell_type": "markdown",
   "id": "5db35bf8",
   "metadata": {},
   "source": [
    "### Step v: Calculate the p-value"
   ]
  },
  {
   "cell_type": "code",
   "execution_count": 45,
   "id": "ed14e4ef",
   "metadata": {},
   "outputs": [
    {
     "name": "stdout",
     "output_type": "stream",
     "text": [
      "The p-value is 0.008026308204056278\n"
     ]
    }
   ],
   "source": [
    "# calculating p-value with proportions_ztest\n",
    "stat, pval = proportions_ztest([new_page_converted, old_page_converted] , [num_new_page, num_old_page], alternative ='larger')\n",
    "\n",
    "print('The p-value is', pval)"
   ]
  },
  {
   "cell_type": "markdown",
   "id": "b8536142",
   "metadata": {},
   "source": [
    "### Step vi: Compare the p-value with α"
   ]
  },
  {
   "cell_type": "code",
   "execution_count": 46,
   "id": "d04b17f7",
   "metadata": {},
   "outputs": [
    {
     "name": "stdout",
     "output_type": "stream",
     "text": [
      "As the p-value 0.008026308204056278 is less than the level of significance, we reject the null hypothesis.\n"
     ]
    }
   ],
   "source": [
    "# print the conclusion based on p-value\n",
    "if pval < 0.05:\n",
    "    print(f'As the p-value {pval} is less than the level of significance, we reject the null hypothesis.')\n",
    "else:\n",
    "    print(f'As the p-value {pval} is greater than the level of significance, we fail to reject the null hypothesis.')"
   ]
  },
  {
   "cell_type": "markdown",
   "id": "dd546144",
   "metadata": {},
   "source": [
    "### Step vii: Draw inference "
   ]
  },
  {
   "cell_type": "markdown",
   "id": "0ceda471",
   "metadata": {},
   "source": [
    "As the p-value is less than the significance level 0.05, we reject the null hypothesis. Thus, the we do have enough statistical significance to conclude that the proportion of users who visit the the new landing page and get converted is greater than the proportion of users who visit the the old landing page and get converted."
   ]
  },
  {
   "cell_type": "markdown",
   "id": "d49bfa2d",
   "metadata": {
    "id": "d49bfa2d"
   },
   "source": [
    "## 3. Is the conversion and preferred language are independent or related?"
   ]
  },
  {
   "cell_type": "markdown",
   "id": "c6dfaa20",
   "metadata": {},
   "source": [
    "##### Performing Visual Analysis"
   ]
  },
  {
   "cell_type": "code",
   "execution_count": 47,
   "id": "d4366da1",
   "metadata": {},
   "outputs": [
    {
     "data": {
      "image/png": "[encoded data removed]",
      "text/plain": [
       "<Figure size 432x288 with 1 Axes>"
      ]
     },
     "metadata": {
      "needs_background": "light"
     },
     "output_type": "display_data"
    }
   ],
   "source": [
    "#plotting with sns.countplot\n",
    "sns.countplot(data=df, x='language_preferred', hue='converted')\n",
    "plt.legend(bbox_to_anchor=[1, 1]);"
   ]
  },
  {
   "cell_type": "code",
   "execution_count": 48,
   "id": "af5c952a",
   "metadata": {},
   "outputs": [
    {
     "data": {
      "image/png": "[encoded data removed]",
      "text/plain": [
       "<Figure size 432x288 with 1 Axes>"
      ]
     },
     "metadata": {
      "needs_background": "light"
     },
     "output_type": "display_data"
    }
   ],
   "source": [
    "pd.crosstab(df['language_preferred'],df['converted'],normalize='index').plot(kind=\"bar\", stacked=True)\n",
    "plt.legend(bbox_to_anchor=[1, 1]);\n",
    "plt.show()"
   ]
  },
  {
   "cell_type": "markdown",
   "id": "d6abfe5a",
   "metadata": {},
   "source": [
    "### Step i: Define the null and alternate hypotheses"
   ]
  },
  {
   "cell_type": "markdown",
   "id": "b5366dd1",
   "metadata": {},
   "source": [
    "##### Let's write the null and alternative hypothesis\n",
    "\n",
    "\n",
    "**null hypothesis**\n",
    "\n",
    ">$H_0:$ Converted status is independent of the preferred language.\n",
    "\n",
    "**alternative hypothesis**\n",
    "\n",
    ">$H_a:$ Converted status depends on preferred language."
   ]
  },
  {
   "cell_type": "markdown",
   "id": "bad87668",
   "metadata": {},
   "source": [
    "### Step ii: Select Appropriate test"
   ]
  },
  {
   "cell_type": "markdown",
   "id": "b559d609",
   "metadata": {},
   "source": [
    "The formulated hypotheses can be tested using a Chi-square test of independence, Since the test involves comparing the relationship between two categorical variables."
   ]
  },
  {
   "cell_type": "markdown",
   "id": "e282df47",
   "metadata": {},
   "source": [
    "##### Let's test whether the assumptions are satisfied or not\n",
    "\n",
    "* Categorical variables - **Yes**.\n",
    "* Expected value of the number of sample observations in each level of the variable is at least 5 - **Yes**.\n",
    "* Random sampling from the population - **Yes**."
   ]
  },
  {
   "cell_type": "markdown",
   "id": "9836496d",
   "metadata": {},
   "source": [
    "### Step iii: Decide the significance level"
   ]
  },
  {
   "cell_type": "markdown",
   "id": "469c2994",
   "metadata": {},
   "source": [
    "As given in the problem statement, we select α = 0.05."
   ]
  },
  {
   "cell_type": "markdown",
   "id": "0092ae54",
   "metadata": {},
   "source": [
    "### Step iv: Collect and prepare data"
   ]
  },
  {
   "cell_type": "code",
   "execution_count": 49,
   "id": "7fe95571",
   "metadata": {},
   "outputs": [
    {
     "data": {
      "text/html": [
       "<div>\n",
       "<style scoped>\n",
       "    .dataframe tbody tr th:only-of-type {\n",
       "        vertical-align: middle;\n",
       "    }\n",
       "\n",
       "    .dataframe tbody tr th {\n",
       "        vertical-align: top;\n",
       "    }\n",
       "\n",
       "    .dataframe thead th {\n",
       "        text-align: right;\n",
       "    }\n",
       "</style>\n",
       "<table border=\"1\" class=\"dataframe\">\n",
       "  <thead>\n",
       "    <tr style=\"text-align: right;\">\n",
       "      <th>language_preferred</th>\n",
       "      <th>English</th>\n",
       "      <th>French</th>\n",
       "      <th>Spanish</th>\n",
       "    </tr>\n",
       "    <tr>\n",
       "      <th>converted</th>\n",
       "      <th></th>\n",
       "      <th></th>\n",
       "      <th></th>\n",
       "    </tr>\n",
       "  </thead>\n",
       "  <tbody>\n",
       "    <tr>\n",
       "      <th>no</th>\n",
       "      <td>11</td>\n",
       "      <td>19</td>\n",
       "      <td>16</td>\n",
       "    </tr>\n",
       "    <tr>\n",
       "      <th>yes</th>\n",
       "      <td>21</td>\n",
       "      <td>15</td>\n",
       "      <td>18</td>\n",
       "    </tr>\n",
       "  </tbody>\n",
       "</table>\n",
       "</div>"
      ],
      "text/plain": [
       "language_preferred  English  French  Spanish\n",
       "converted                                   \n",
       "no                       11      19       16\n",
       "yes                      21      15       18"
      ]
     },
     "execution_count": 49,
     "metadata": {},
     "output_type": "execute_result"
    }
   ],
   "source": [
    "# to calculate the chi square test or independence, a contingency table of frequencies is required.\n",
    "contingency_table = pd.crosstab(df['converted'],df['language_preferred'])\n",
    "contingency_table"
   ]
  },
  {
   "cell_type": "markdown",
   "id": "59828a45",
   "metadata": {},
   "source": [
    "### Step v: Calculate the p-value"
   ]
  },
  {
   "cell_type": "code",
   "execution_count": 50,
   "id": "2aa9dc01",
   "metadata": {},
   "outputs": [
    {
     "name": "stdout",
     "output_type": "stream",
     "text": [
      "The p-value is 0.21298887487543447\n"
     ]
    }
   ],
   "source": [
    "chi2_stat, pval, DoF, exp_val = stats.chi2_contingency(contingency_table, correction=True)\n",
    "print('The p-value is', pval)"
   ]
  },
  {
   "cell_type": "markdown",
   "id": "56d1cf39",
   "metadata": {},
   "source": [
    "### Step vi: Compare the p-value with α"
   ]
  },
  {
   "cell_type": "code",
   "execution_count": 51,
   "id": "b182f2ca",
   "metadata": {},
   "outputs": [
    {
     "name": "stdout",
     "output_type": "stream",
     "text": [
      "As the p-value 0.21298887487543447 is greater than the level of significance, we fail to reject the null hypothesis.\n"
     ]
    }
   ],
   "source": [
    "if pval < 0.05:\n",
    "    print(f'As the p-value {pval} is less than the level of significance, we reject the null hypothesis.')\n",
    "else:\n",
    "    print(f'As the p-value {pval} is greater than the level of significance, we fail to reject the null hypothesis.')"
   ]
  },
  {
   "cell_type": "markdown",
   "id": "9c36405e",
   "metadata": {},
   "source": [
    "### Step vii: Draw inference"
   ]
  },
  {
   "cell_type": "markdown",
   "id": "386d419f",
   "metadata": {},
   "source": [
    "Since the p-value is > 0.05, we fail to reject the null hypothesis. Hence, we do not have enough statistical evidence to say that converted status is NOT independent of preferred language."
   ]
  },
  {
   "cell_type": "markdown",
   "id": "8d585a90",
   "metadata": {
    "id": "8d585a90"
   },
   "source": [
    "## 4. Is the time spent on the new page same for the different language users?"
   ]
  },
  {
   "cell_type": "markdown",
   "id": "da1fa72f",
   "metadata": {
    "id": "b422f395"
   },
   "source": [
    "##### Performing Visual Analysis"
   ]
  },
  {
   "cell_type": "code",
   "execution_count": 52,
   "id": "98e466ff",
   "metadata": {},
   "outputs": [
    {
     "data": {
      "text/html": [
       "<div>\n",
       "<style scoped>\n",
       "    .dataframe tbody tr th:only-of-type {\n",
       "        vertical-align: middle;\n",
       "    }\n",
       "\n",
       "    .dataframe tbody tr th {\n",
       "        vertical-align: top;\n",
       "    }\n",
       "\n",
       "    .dataframe thead th {\n",
       "        text-align: right;\n",
       "    }\n",
       "</style>\n",
       "<table border=\"1\" class=\"dataframe\">\n",
       "  <thead>\n",
       "    <tr style=\"text-align: right;\">\n",
       "      <th></th>\n",
       "      <th>user_id</th>\n",
       "      <th>group</th>\n",
       "      <th>landing_page</th>\n",
       "      <th>time_spent_on_the_page</th>\n",
       "      <th>converted</th>\n",
       "      <th>language_preferred</th>\n",
       "    </tr>\n",
       "  </thead>\n",
       "  <tbody>\n",
       "    <tr>\n",
       "      <th>1</th>\n",
       "      <td>546468</td>\n",
       "      <td>treatment</td>\n",
       "      <td>new</td>\n",
       "      <td>7.13</td>\n",
       "      <td>yes</td>\n",
       "      <td>English</td>\n",
       "    </tr>\n",
       "    <tr>\n",
       "      <th>2</th>\n",
       "      <td>546462</td>\n",
       "      <td>treatment</td>\n",
       "      <td>new</td>\n",
       "      <td>4.40</td>\n",
       "      <td>no</td>\n",
       "      <td>Spanish</td>\n",
       "    </tr>\n",
       "    <tr>\n",
       "      <th>4</th>\n",
       "      <td>546459</td>\n",
       "      <td>treatment</td>\n",
       "      <td>new</td>\n",
       "      <td>4.75</td>\n",
       "      <td>yes</td>\n",
       "      <td>Spanish</td>\n",
       "    </tr>\n",
       "    <tr>\n",
       "      <th>6</th>\n",
       "      <td>546448</td>\n",
       "      <td>treatment</td>\n",
       "      <td>new</td>\n",
       "      <td>5.25</td>\n",
       "      <td>yes</td>\n",
       "      <td>French</td>\n",
       "    </tr>\n",
       "    <tr>\n",
       "      <th>8</th>\n",
       "      <td>546461</td>\n",
       "      <td>treatment</td>\n",
       "      <td>new</td>\n",
       "      <td>10.71</td>\n",
       "      <td>yes</td>\n",
       "      <td>French</td>\n",
       "    </tr>\n",
       "    <tr>\n",
       "      <th>12</th>\n",
       "      <td>546491</td>\n",
       "      <td>treatment</td>\n",
       "      <td>new</td>\n",
       "      <td>5.86</td>\n",
       "      <td>yes</td>\n",
       "      <td>Spanish</td>\n",
       "    </tr>\n",
       "    <tr>\n",
       "      <th>13</th>\n",
       "      <td>546478</td>\n",
       "      <td>treatment</td>\n",
       "      <td>new</td>\n",
       "      <td>6.03</td>\n",
       "      <td>yes</td>\n",
       "      <td>French</td>\n",
       "    </tr>\n",
       "  </tbody>\n",
       "</table>\n",
       "</div>"
      ],
      "text/plain": [
       "    user_id      group landing_page  time_spent_on_the_page converted  \\\n",
       "1    546468  treatment          new                    7.13       yes   \n",
       "2    546462  treatment          new                    4.40        no   \n",
       "4    546459  treatment          new                    4.75       yes   \n",
       "6    546448  treatment          new                    5.25       yes   \n",
       "8    546461  treatment          new                   10.71       yes   \n",
       "12   546491  treatment          new                    5.86       yes   \n",
       "13   546478  treatment          new                    6.03       yes   \n",
       "\n",
       "   language_preferred  \n",
       "1             English  \n",
       "2             Spanish  \n",
       "4             Spanish  \n",
       "6              French  \n",
       "8              French  \n",
       "12            Spanish  \n",
       "13             French  "
      ]
     },
     "execution_count": 52,
     "metadata": {},
     "output_type": "execute_result"
    }
   ],
   "source": [
    "# create a new DataFrame for users who got served the new page\n",
    "df_new = df.groupby('landing_page').get_group('new')\n",
    "df_new.head(7)"
   ]
  },
  {
   "cell_type": "code",
   "execution_count": 53,
   "id": "f7a89bed",
   "metadata": {},
   "outputs": [
    {
     "data": {
      "image/png": "[encoded data removed]",
      "text/plain": [
       "<Figure size 576x432 with 1 Axes>"
      ]
     },
     "metadata": {
      "needs_background": "light"
     },
     "output_type": "display_data"
    }
   ],
   "source": [
    "# plotting boxplot of time_spent_on_the_page and language_preferred\n",
    "plt.figure(figsize=(8,6))\n",
    "sns.boxplot(data=df_new, x='language_preferred', y='time_spent_on_the_page', showmeans=True)\n",
    "plt.show()"
   ]
  },
  {
   "cell_type": "code",
   "execution_count": 54,
   "id": "2a83627a",
   "metadata": {},
   "outputs": [
    {
     "data": {
      "text/plain": [
       "language_preferred\n",
       "English    6.663750\n",
       "French     6.196471\n",
       "Spanish    5.835294\n",
       "Name: time_spent_on_the_page, dtype: float64"
      ]
     },
     "execution_count": 54,
     "metadata": {},
     "output_type": "execute_result"
    }
   ],
   "source": [
    "# calculating the means time spent by users of various language group\n",
    "df_new.groupby(['language_preferred'])['time_spent_on_the_page'].mean()"
   ]
  },
  {
   "cell_type": "markdown",
   "id": "7c5aed44",
   "metadata": {},
   "source": [
    "### Step i: Define the null and alternative hypotheses"
   ]
  },
  {
   "cell_type": "markdown",
   "id": "9e142a76",
   "metadata": {},
   "source": [
    "The null and alternative hypotheses can be formulated as:\n",
    "\n",
    "> $H_0$ : The mean time spent on the new page is equal for the different language users. <br>\n",
    "> $H_a$ : At least one of the  mean time spent on the new page with respect to different language users is different."
   ]
  },
  {
   "cell_type": "markdown",
   "id": "81d6c87f",
   "metadata": {},
   "source": [
    "### Step ii: Select Appropriate test"
   ]
  },
  {
   "cell_type": "markdown",
   "id": "f4ecf086",
   "metadata": {},
   "source": [
    "This is a problem, concerning three population means. One-way ANOVA is an appropriate test here provided normality and equality of variance assumptions are verified."
   ]
  },
  {
   "cell_type": "markdown",
   "id": "38e4c51d",
   "metadata": {},
   "source": [
    "###### The results from an ANOVA test are most reliable when the assumptions of normality and equality of variances are satisfied.\n",
    "\n",
    "* For testing of normality, I'll apply Shapiro-Wilk’s test to the response variable.\n",
    "\n",
    "* For equality of variance, Levene test will be applied to the response variable."
   ]
  },
  {
   "cell_type": "markdown",
   "id": "ab3198cc",
   "metadata": {},
   "source": [
    "**Shapiro-Wilk’s test**\n",
    "\n",
    "We will test the null hypothesis\n",
    "\n",
    ">$H_0:$ The time spent on the new landing page follows a normal distribution\n",
    "\n",
    "against the alternative hypothesis\n",
    "\n",
    ">$H_a:$ The time spent on the new landing page do not follow a normal distribution"
   ]
  },
  {
   "cell_type": "code",
   "execution_count": 55,
   "id": "4b152f92",
   "metadata": {},
   "outputs": [
    {
     "name": "stdout",
     "output_type": "stream",
     "text": [
      "The p-value is 0.8040016293525696\n"
     ]
    }
   ],
   "source": [
    "# Assumption 1: Normality\n",
    "# I am Using the shapiro function for the scipy.stats library for this test\n",
    "\n",
    "# finding the p-value\n",
    "w_stats, p_value = stats.shapiro(df_new['time_spent_on_the_page']) \n",
    "print('The p-value is', p_value)"
   ]
  },
  {
   "cell_type": "markdown",
   "id": "736f3e26",
   "metadata": {},
   "source": [
    "Since p-value of the test is greater than the 0.05 significance level, we fail to reject the null hypothesis that the response follows the normal distribution."
   ]
  },
  {
   "cell_type": "markdown",
   "id": "83151083",
   "metadata": {},
   "source": [
    "**Levene’s test**\n",
    "\n",
    "We will test the null hypothesis\n",
    "\n",
    ">$H_0$: All the population variances are equal\n",
    "\n",
    "against the alternative hypothesis\n",
    "\n",
    ">$H_a$: At least one variance is different from the rest"
   ]
  },
  {
   "cell_type": "code",
   "execution_count": 56,
   "id": "1bf8f1bc",
   "metadata": {},
   "outputs": [
    {
     "name": "stdout",
     "output_type": "stream",
     "text": [
      "The p-value is 0.46711357711340173\n"
     ]
    }
   ],
   "source": [
    "#Assumption 2: Homogeneity of Variance\n",
    "# using levene function from scipy.stats library for this test\n",
    "\n",
    "# finding the p-value\n",
    "statistic, p_value = stats.levene(df_new[df_new['language_preferred']=='English']['time_spent_on_the_page'],\n",
    "                                  df_new[df_new['language_preferred']=='Spanish']['time_spent_on_the_page'],\n",
    "                                  df_new[df_new['language_preferred']=='French']['time_spent_on_the_page'])\n",
    "print('The p-value is', p_value)"
   ]
  },
  {
   "cell_type": "markdown",
   "id": "2205e95e",
   "metadata": {},
   "source": [
    "Since the p-value is greater than the 0.05 significance level, we fail to reject the null hypothesis of homogeneity of variances."
   ]
  },
  {
   "cell_type": "markdown",
   "id": "84e0e6e4",
   "metadata": {},
   "source": [
    "### Step iii: Decide the significance level"
   ]
  },
  {
   "cell_type": "markdown",
   "id": "76b3b563",
   "metadata": {},
   "source": [
    "As given in the problem statement, we select α = 0.05."
   ]
  },
  {
   "cell_type": "markdown",
   "id": "7c1b0457",
   "metadata": {},
   "source": [
    "### Step iv: Collect and prepare data"
   ]
  },
  {
   "cell_type": "code",
   "execution_count": 57,
   "id": "aa0b2387",
   "metadata": {},
   "outputs": [],
   "source": [
    "# create separate variables to store the time spent on new landing page with respect to the three languages\n",
    "time_spent_English = df_new[df_new['language_preferred']=='English']['time_spent_on_the_page']\n",
    "time_spent_Spanish = df_new[df_new['language_preferred']=='Spanish']['time_spent_on_the_page']\n",
    "time_spent_French = df_new[df_new['language_preferred']=='French']['time_spent_on_the_page']\n",
    " "
   ]
  },
  {
   "cell_type": "markdown",
   "id": "529de3f5",
   "metadata": {},
   "source": [
    "### Step v: Calculate the p-value"
   ]
  },
  {
   "cell_type": "code",
   "execution_count": 58,
   "id": "545a5d48",
   "metadata": {},
   "outputs": [
    {
     "name": "stdout",
     "output_type": "stream",
     "text": [
      "The p-value is  0.43204138694325955\n"
     ]
    }
   ],
   "source": [
    "# find the p-value\n",
    "test_stat, p_value = stats.f_oneway(time_spent_English, \n",
    "                                    time_spent_Spanish, \n",
    "                                    time_spent_French)\n",
    "\n",
    "print('The p-value is ', p_value)"
   ]
  },
  {
   "cell_type": "markdown",
   "id": "d7e1ab71",
   "metadata": {},
   "source": [
    "### Step vi: Compare the p-value with α"
   ]
  },
  {
   "cell_type": "code",
   "execution_count": 59,
   "id": "bb7acd68",
   "metadata": {},
   "outputs": [
    {
     "name": "stdout",
     "output_type": "stream",
     "text": [
      "As the p-value 0.43204138694325955 is greater than the level of significance, we fail to reject the null hypothesis.\n"
     ]
    }
   ],
   "source": [
    "# print the conclusion based on p-value\n",
    "if p_value < 0.05:\n",
    "    print(f'As the p-value {p_value} is less than the level of significance, we reject the null hypothesis.')\n",
    "else:\n",
    "    print(f'As the p-value {p_value} is greater than the level of significance, we fail to reject the null hypothesis.')"
   ]
  },
  {
   "cell_type": "markdown",
   "id": "ba3dcc4d",
   "metadata": {},
   "source": [
    "### Step vii: Draw inference"
   ]
  },
  {
   "cell_type": "markdown",
   "id": "487943dc",
   "metadata": {},
   "source": [
    "Since the p-value is greater than the level of significance (5%), we fail reject the null hypothesis. Hence, we do not have enough statistical evidence to say that at least one of the mean time spent on the new landing page with respect to the three languages is different."
   ]
  },
  {
   "cell_type": "markdown",
   "id": "3acbc947",
   "metadata": {
    "id": "3acbc947"
   },
   "source": [
    "## Conclusion and Business Recommendations"
   ]
  },
  {
   "cell_type": "markdown",
   "id": "21fb1063",
   "metadata": {
    "id": "21fb1063"
   },
   "source": [
    "#### Conclusion based on descriptive statistics, EDA and visualization"
   ]
  },
  {
   "cell_type": "markdown",
   "id": "U0dAd4i0iCHo",
   "metadata": {
    "id": "U0dAd4i0iCHo"
   },
   "source": [
    "+ There are 100 rows and 6 columns in our dataset\n",
    "+ There are no missing values\n",
    "+ There are no duplicate rows\n",
    "+ 4 out of the 6 columns are of type 'object', 1 is of type 'float' and 1 is of type 'integer'\n",
    "+ The time spent is close to a normal distribution\n",
    "+ There are no outliers on the time spent\n",
    "+ 50% of users spend between 3.8 to 7 minutes on the landing page\n",
    "+ Almost half of the users spend less than 5.4 minutes on the landing page.\n",
    "+ From the 100 samples, 34 are Spanish, 34 are French while 32 are English\n",
    "+ The average time spent by the users is 5.37 minutes\n",
    "+ The new page users(the treatments group) spent an average of 6.22 minute while the old page users (the control group) spent an average of 4.53 minutes\n",
    "+ 50% of new page users(the treatments group) spent less than 6.1 minutes as opposed to 4.38 minutes spent by the old page users (the control group)\n",
    "+ 50% of the users in the the treatments group spent between 5.2 to 7.16 minutes while 50% of the users in the control group spent between 2.72 to 6.44 minutes\n",
    "+ The users that converted spent an average of 6.6 minute while the unconverted users spent an average of 3.39 minutes\n",
    "+ 50% of users that converted spent less than 6.49 minutes as opposed to 3.98 minutes spent by the unconverted users\n",
    "+ 50% of the users that were converted spent between 5.5 to 7.36 minutes while 50% of the users that were not converted spent between 2.3 to 4.9 minutes\n",
    "+ The Spanish users spend the least range of time compared to other users with 50% of them spending between 4.5 to 6.6 minutes\n",
    "+ About 34 people from the treatment group gets converted while about 21 from the control group gets converted\n",
    "+ More users gets converted from the new landing page than from the old landing page"
   ]
  },
  {
   "cell_type": "markdown",
   "id": "274ec270",
   "metadata": {},
   "source": [
    "#### Conclusions based on inferential statistics and hypothesis testing"
   ]
  },
  {
   "cell_type": "markdown",
   "id": "0d7b0f6b",
   "metadata": {},
   "source": [
    "+ We have enough evidence to support the claim that the users spend more time on the new landing page than on the existing landing page.\n",
    "+  We have enough statistical significance to conclude that the proportion of users who visit the the new landing page and get converted is greater than the proportion of users who visit the the old landing page and get converted.\n",
    "+ We do not have enough statistical evidence to say that converted status is dependent on preferred language.\n",
    "+ We do not have enough statistical evidence to say that at least one of the mean time spent on the new landing page with respect to the three languages is different."
   ]
  },
  {
   "cell_type": "markdown",
   "id": "c6bb459a",
   "metadata": {},
   "source": [
    "#### Business Recommendations"
   ]
  },
  {
   "cell_type": "markdown",
   "id": "068aebf5",
   "metadata": {},
   "source": [
    "+ From our findings, the proportion of users who visit the the new landing page and gets converted is greater than the proportion of users who visit the the old landing page and get converted.The existing page should definitely be scrapped and a new, better and more engaging landing page should be introduced.\n",
    "\n",
    "\n",
    "+ Since the users spend more time on the new landing page than the existing landing page. it means that they find the new page more engaging and intersting than the old one. Constant efforts should be directed towards improving the quality of the new landing page to increase time spent, because the more the time spent on the pages, the higher the probability of conversion.\n",
    "\n",
    "\n",
    "+ The company can consider other alternatives for driving more traffic to the website because the higher the traffic generated, the more the probability of the users converting. A good option will be to advertize the website on various social media network or employ the services of a digital marketer to drive traffic to the website.\n",
    "\n"
   ]
  },
  {
   "cell_type": "markdown",
   "id": "365dbea4",
   "metadata": {},
   "source": [
    "# THE END !!"
   ]
  }
 ],
 "metadata": {
  "colab": {
   "collapsed_sections": [
    "a6a3d218",
    "6970dd99",
    "9d75cfa2",
    "68f3b2c9",
    "fad2de2f",
    "27906576",
    "e5fdf0c8",
    "56b3dafd",
    "c7ee4907",
    "3f58c9a7",
    "5fed2eac",
    "f5c5258d",
    "359b12f8",
    "d9affc84",
    "353e9d24",
    "d49bfa2d",
    "8d585a90",
    "3acbc947"
   ],
   "name": "ENews_Express_Learner_Notebook_Full_Code v1.1.ipynb",
   "provenance": []
  },
  "kernelspec": {
   "display_name": "Python 3 (ipykernel)",
   "language": "python",
   "name": "python3"
  },
  "language_info": {
   "codemirror_mode": {
    "name": "ipython",
    "version": 3
   },
   "file_extension": ".py",
   "mimetype": "text/x-python",
   "name": "python",
   "nbconvert_exporter": "python",
   "pygments_lexer": "ipython3",
   "version": "3.9.7"
  }
 },
 "nbformat": 4,
 "nbformat_minor": 5
}
